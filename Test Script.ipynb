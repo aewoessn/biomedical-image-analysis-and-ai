{
 "cells": [
  {
   "cell_type": "code",
   "execution_count": null,
   "id": "falling-chart",
   "metadata": {},
   "outputs": [],
   "source": [
    "import torch\n",
    "import torch.nn as nn\n",
    "import torchvision\n",
    "from torchvision.datasets import CIFAR10\n",
    "import matplotlib.pyplot as plt\n",
    "import numpy as np\n",
    "from tqdm import tqdm\n",
    "\n",
    "# Load in image dataset\n",
    "#torch.manual_seed(0) # Use for testing\n",
    "\n",
    "minibatch_size = 5\n",
    "transform = torchvision.transforms.ToTensor()\n",
    "\n",
    "trainset = torchvision.datasets.CIFAR10(root='./data', train=True,download=True,transform = transform)\n",
    "trainloader = torch.utils.data.DataLoader(trainset, batch_size=minibatch_size,shuffle=True)\n",
    "\n",
    "testset = torchvision.datasets.CIFAR10(root='./data', train=False, download=False,transform=transform)\n",
    "testloader = torch.utils.data.DataLoader(testset, batch_size=minibatch_size, shuffle=False)\n",
    "\n",
    "classes = ('plane', 'car', 'bird', 'cat', 'deer', 'dog', 'frog', 'horse', 'ship', 'truck')"
   ]
  },
  {
   "cell_type": "code",
   "execution_count": null,
   "id": "controversial-belgium",
   "metadata": {},
   "outputs": [],
   "source": [
    "# Load in a minibatch\n",
    "dataiter = iter(trainloader)\n",
    "images, labels = dataiter.next()\n",
    "\n",
    "plt.figure()\n",
    "for i in range(minibatch_size-1):\n",
    "    plt.subplot(1,minibatch_size,i+1)\n",
    "    plt.axis('off')\n",
    "    plt.imshow(np.transpose(images[i,:,:,:].detach().numpy(),(1,2,0)))\n",
    "    plt.title(classes[labels[i]])"
   ]
  },
  {
   "cell_type": "code",
   "execution_count": null,
   "id": "fossil-gathering",
   "metadata": {},
   "outputs": [],
   "source": [
    "model = nn.Sequential(\n",
    "          nn.Conv2d(3,10,5),\n",
    "          nn.ReLU(),\n",
    "          nn.Conv2d(10,20,5),\n",
    "          nn.ReLU(),\n",
    "          nn.Conv2d(20,30,5),\n",
    "          nn.ReLU(),\n",
    "          nn.Flatten(),\n",
    "          nn.Linear(12000,100),\n",
    "          nn.ReLU(),\n",
    "          nn.Linear(100,10)\n",
    "        )\n",
    "\n",
    "criterion = torch.nn.CrossEntropyLoss()\n",
    "optimizer = torch.optim.SGD(model.parameters(),lr=0.001,momentum=0.9)"
   ]
  },
  {
   "cell_type": "code",
   "execution_count": null,
   "id": "central-singing",
   "metadata": {},
   "outputs": [],
   "source": [
    "epochs = 10\n",
    "\n",
    "for ep in range(epochs):\n",
    "    \n",
    "    # Training loop\n",
    "    epoch_loss = 0\n",
    "    with tqdm(total=len(trainset), desc=f'Epoch {ep + 1}/{epochs}', unit='img') as pbar:\n",
    "        for i,data in enumerate(trainloader,0):\n",
    "            images,labels = data\n",
    "            out = model.forward(images)\n",
    "            loss = criterion(out,labels)\n",
    "            pbar.set_postfix(**{'loss (batch)': loss.item()})\n",
    "\n",
    "            optimizer.zero_grad()\n",
    "            loss.backward()\n",
    "            nn.utils.clip_grad_value_(model.parameters(), 0.1)\n",
    "            optimizer.step()\n",
    "\n",
    "            pbar.update(images.shape[0])\n",
    "        pbar.set_postfix(**{'average loss': epoch_loss/len(trainset)})"
   ]
  }
 ],
 "metadata": {
  "kernelspec": {
   "display_name": "Python 3",
   "language": "python",
   "name": "python3"
  },
  "language_info": {
   "codemirror_mode": {
    "name": "ipython",
    "version": 3
   },
   "file_extension": ".py",
   "mimetype": "text/x-python",
   "name": "python",
   "nbconvert_exporter": "python",
   "pygments_lexer": "ipython3",
   "version": "3.7.9"
  }
 },
 "nbformat": 4,
 "nbformat_minor": 5
}
