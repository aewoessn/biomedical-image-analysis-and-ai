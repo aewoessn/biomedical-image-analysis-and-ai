{
 "cells": [
  {
   "cell_type": "markdown",
   "id": "falling-jewelry",
   "metadata": {},
   "source": [
    "# This is a test script to showcase utilizing pytorch and deep learning training loops within jupyter notebooks\n",
    "\n",
    "## This code uses the CIFAR-10 dataset, which is comprised of 32x32 pixel RGB images, and has 10 different classes of images\n"
   ]
  },
  {
   "cell_type": "markdown",
   "id": "suited-delivery",
   "metadata": {},
   "source": [
    "## Import packages"
   ]
  },
  {
   "cell_type": "code",
   "execution_count": 9,
   "id": "governmental-baseline",
   "metadata": {},
   "outputs": [],
   "source": [
    "import torch\n",
    "import torch.nn as nn\n",
    "import torchvision\n",
    "import torchvision.transforms as transforms\n",
    "from torchvision.datasets import CIFAR10\n",
    "import matplotlib.pyplot as plt\n",
    "import numpy as np\n",
    "from tqdm import tqdm"
   ]
  },
  {
   "cell_type": "markdown",
   "id": "cooked-conviction",
   "metadata": {},
   "source": [
    "## Initialize the training/validation/testing datasets"
   ]
  },
  {
   "cell_type": "code",
   "execution_count": 10,
   "id": "atmospheric-blues",
   "metadata": {},
   "outputs": [
    {
     "name": "stdout",
     "output_type": "stream",
     "text": [
      "Files already downloaded and verified\n"
     ]
    }
   ],
   "source": [
    "# Set the minibatch size\n",
    "minibatch_size = 5\n",
    "\n",
    "# Set the appropriate transform of images (this casts numpy images to torch.tensor images and then normalizes them)\n",
    "transform = transforms.Compose(\n",
    "    [transforms.ToTensor(),\n",
    "     transforms.Normalize((0.5, 0.5, 0.5), (0.5, 0.5, 0.5))])\n",
    "\n",
    "# Initialize the training set\n",
    "trainset = torchvision.datasets.CIFAR10(root='./data', train=True,download=True,transform = transform)\n",
    "trainloader = torch.utils.data.DataLoader(trainset, batch_size=minibatch_size,shuffle=True)\n",
    "\n",
    "# Initialize the validation set\n",
    "validset = torchvision.datasets.CIFAR10(root='./data', train=False, download=False,transform=transform)\n",
    "validloader = torch.utils.data.DataLoader(validset, batch_size=minibatch_size, shuffle=False)\n",
    "\n",
    "# Initialize the testing set\n",
    "testset = torchvision.datasets.CIFAR10(root='./data', train=False, download=False,transform=transform)\n",
    "testloader = torch.utils.data.DataLoader(testset, batch_size=minibatch_size, shuffle=False)\n",
    "\n",
    "# Identify the appropriate classes\n",
    "classes = ('plane', 'car', 'bird', 'cat', 'deer', 'dog', 'frog', 'horse', 'ship', 'truck')"
   ]
  },
  {
   "cell_type": "markdown",
   "id": "absolute-insured",
   "metadata": {},
   "source": [
    "## Show the first mini-batch "
   ]
  },
  {
   "cell_type": "code",
   "execution_count": 15,
   "id": "exposed-lewis",
   "metadata": {},
   "outputs": [
    {
     "data": {
      "image/png": "[encoded data removed]",
      "text/plain": [
       "<Figure size 864x576 with 5 Axes>"
      ]
     },
     "metadata": {
      "needs_background": "light"
     },
     "output_type": "display_data"
    }
   ],
   "source": [
    "# Load in a minibatch\n",
    "dataiter = iter(trainloader)\n",
    "images, labels = dataiter.next()\n",
    "\n",
    "plt.figure(figsize=(12,8))\n",
    "for i in range(minibatch_size):\n",
    "    plt.subplot(1,minibatch_size,i+1)\n",
    "    plt.axis('off')\n",
    "    plt.imshow((np.transpose(images[i,:,:,:].detach().numpy(),(1,2,0)) / 2) + 0.5)\n",
    "    plt.title(classes[labels[i]])"
   ]
  },
  {
   "cell_type": "markdown",
   "id": "collect-friendship",
   "metadata": {},
   "source": [
    "## Generate the deep learning model to be used"
   ]
  },
  {
   "cell_type": "code",
   "execution_count": 16,
   "id": "existing-infection",
   "metadata": {},
   "outputs": [],
   "source": [
    "# Generate the model that is going to be used\n",
    "model = nn.Sequential(\n",
    "          nn.Conv2d(3,6,5),\n",
    "          nn.ReLU(),\n",
    "          nn.MaxPool2d(2),\n",
    "          nn.Conv2d(6,16,5),\n",
    "          nn.ReLU(),\n",
    "          nn.MaxPool2d(2),\n",
    "          nn.Flatten(),\n",
    "          nn.Linear(400,120),\n",
    "          nn.ReLU(),\n",
    "          nn.Linear(120,84),\n",
    "          nn.ReLU(),\n",
    "          nn.Linear(84,10)\n",
    "        )\n",
    "\n",
    "# Send CNN model to GPU\n",
    "model = model.cuda()\n",
    "\n",
    "# Set the loss function\n",
    "criterion = torch.nn.CrossEntropyLoss()\n",
    "\n",
    "# Set the gradient descent algorithm\n",
    "optimizer = torch.optim.SGD(model.parameters(),lr=0.001,momentum=0.9)"
   ]
  },
  {
   "cell_type": "markdown",
   "id": "successful-secretariat",
   "metadata": {},
   "source": [
    "## Deep learning training loop"
   ]
  },
  {
   "cell_type": "code",
   "execution_count": 17,
   "id": "interim-cruise",
   "metadata": {
    "scrolled": true
   },
   "outputs": [
    {
     "name": "stderr",
     "output_type": "stream",
     "text": [
      "Epoch 1/10: 100%|██████████| 50000/50000 [00:37<00:00, 1334.85img/s, average loss=0.356]\n",
      "Validation: 100%|██████████| 10000/10000 [00:04<00:00, 2162.53img/s, average loss=0.288]\n",
      "Epoch 2/10: 100%|██████████| 50000/50000 [00:37<00:00, 1323.23img/s, average loss=0.275]\n",
      "Validation: 100%|██████████| 10000/10000 [00:04<00:00, 2104.32img/s, average loss=0.251]\n",
      "Epoch 3/10: 100%|██████████| 50000/50000 [00:37<00:00, 1324.72img/s, average loss=0.245]\n",
      "Validation: 100%|██████████| 10000/10000 [00:04<00:00, 2084.56img/s, average loss=0.249]\n",
      "Epoch 4/10: 100%|██████████| 50000/50000 [00:37<00:00, 1323.16img/s, average loss=0.226] \n",
      "Validation: 100%|██████████| 10000/10000 [00:04<00:00, 2099.23img/s, average loss=0.224]\n",
      "Epoch 5/10: 100%|██████████| 50000/50000 [00:37<00:00, 1326.30img/s, average loss=0.211] \n",
      "Validation: 100%|██████████| 10000/10000 [00:04<00:00, 2096.45img/s, average loss=0.228]\n",
      "Epoch 6/10: 100%|██████████| 50000/50000 [00:37<00:00, 1322.35img/s, average loss=0.201] \n",
      "Validation: 100%|██████████| 10000/10000 [00:04<00:00, 2094.98img/s, average loss=0.235]\n",
      "Epoch 7/10: 100%|██████████| 50000/50000 [00:38<00:00, 1302.20img/s, average loss=0.191] \n",
      "Validation: 100%|██████████| 10000/10000 [00:04<00:00, 2103.84img/s, average loss=0.218]\n",
      "Epoch 8/10: 100%|██████████| 50000/50000 [00:37<00:00, 1322.17img/s, average loss=0.182] \n",
      "Validation: 100%|██████████| 10000/10000 [00:04<00:00, 2089.00img/s, average loss=0.22] \n",
      "Epoch 9/10: 100%|██████████| 50000/50000 [00:37<00:00, 1319.22img/s, average loss=0.175]  \n",
      "Validation: 100%|██████████| 10000/10000 [00:04<00:00, 2095.45img/s, average loss=0.216]\n",
      "Epoch 10/10: 100%|██████████| 50000/50000 [00:37<00:00, 1319.49img/s, average loss=0.167] \n",
      "Validation: 100%|██████████| 10000/10000 [00:04<00:00, 2085.12img/s, average loss=0.224]\n"
     ]
    }
   ],
   "source": [
    "# Set the number of epochs\n",
    "epochs = 10\n",
    "\n",
    "# Here begins the entire training loop\n",
    "for ep in range(epochs):\n",
    "    \n",
    "    # Go through the traning set\n",
    "    epoch_loss = 0 # Initialize a running loss value\n",
    "    \n",
    "    with tqdm(total=len(trainset), desc=f'Epoch {ep + 1}/{epochs}', unit='img') as pbar: # This is just a progress bar\n",
    "        \n",
    "        for i,data in enumerate(trainloader,0): # Enumerate the training dataset loader (this goes through the entire set)\n",
    "            # Parse the image and label\n",
    "            images,labels = data\n",
    "\n",
    "            # Zero all of the gradients\n",
    "            optimizer.zero_grad()\n",
    "            \n",
    "            # Compute the forward pass (This is done on a GPU)\n",
    "            out = model.forward(images.cuda())\n",
    "            \n",
    "            # Compute the batch loss (This is done on a GPU)\n",
    "            loss = criterion(out,labels.cuda())\n",
    "            \n",
    "            # Update running loss\n",
    "            epoch_loss += loss.item()\n",
    "            \n",
    "            # Update the progress bar with the current loss value\n",
    "            pbar.set_postfix(**{'loss (batch)': loss.item()})\n",
    "            \n",
    "            # Back-propogate using the loss value\n",
    "            loss.backward()\n",
    "            \n",
    "            # Clip gradients (to resist exploding gradients)\n",
    "            #nn.utils.clip_grad_value_(model.parameters(), 0.1)\n",
    "            \n",
    "            # Perform gradient descent step\n",
    "            optimizer.step()\n",
    "            \n",
    "            # Update progress bar\n",
    "            pbar.update(images.shape[0])\n",
    "        \n",
    "        # At the end of the training set, update the progress bar with the average epoch loss\n",
    "        pbar.set_postfix(**{'average loss': epoch_loss/len(trainset)})\n",
    "        \n",
    "    # Go through the validation set\n",
    "    epoch_loss = 0 # Initialize a running loss value\n",
    "    \n",
    "    with tqdm(total=len(validset), desc=f'Validation', unit='img') as pbar: # This is just a progress bar\n",
    "        \n",
    "        with torch.no_grad(): # Tell pytorch to not hold onto intermediate values that would be used for backpropagation\n",
    "            \n",
    "            for i,data in enumerate(validloader,0): # Enumerate the validation dataset loader (this goes through the entire set)\n",
    "                # Parse the image and label\n",
    "                images,labels = data\n",
    "\n",
    "                # Compute the forward pass\n",
    "                out = model.forward(images.cuda())\n",
    "\n",
    "                # Compute the batch loss\n",
    "                loss = criterion(out,labels.cuda())\n",
    "                \n",
    "                # Update running loss\n",
    "                epoch_loss += loss.item()\n",
    "                \n",
    "                # Update the progress bar with the current loss value\n",
    "                pbar.set_postfix(**{'loss (batch)': loss.item()})\n",
    "\n",
    "                # Update progress bar\n",
    "                pbar.update(images.shape[0])\n",
    "\n",
    "            # At the end of the validation set, update the progress bar with the average epoch loss\n",
    "            pbar.set_postfix(**{'average loss': epoch_loss/len(validset)})    "
   ]
  }
 ],
 "metadata": {
  "kernelspec": {
   "display_name": "Python 3",
   "language": "python",
   "name": "python3"
  },
  "language_info": {
   "codemirror_mode": {
    "name": "ipython",
    "version": 3
   },
   "file_extension": ".py",
   "mimetype": "text/x-python",
   "name": "python",
   "nbconvert_exporter": "python",
   "pygments_lexer": "ipython3",
   "version": "3.8.5"
  }
 },
 "nbformat": 4,
 "nbformat_minor": 5
}
