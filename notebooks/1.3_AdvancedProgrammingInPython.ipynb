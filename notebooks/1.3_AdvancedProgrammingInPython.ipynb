{
  "nbformat": 4,
  "nbformat_minor": 0,
  "metadata": {
    "colab": {
      "name": "1.3_AdvancedProgrammingInPython.ipynb",
      "provenance": [],
      "collapsed_sections": []
    },
    "kernelspec": {
      "name": "python3",
      "display_name": "Python 3"
    },
    "language_info": {
      "name": "python"
    }
  },
  "cells": [
    {
      "cell_type": "markdown",
      "metadata": {
        "id": "mFQ2JNZn8oIm"
      },
      "source": [
        "<img src=https://brand.uark.edu/_resources/images/UA_Logo_Horizontal.jpg width=\"400\" height=\"96\">\n",
        "\n",
        "###_Biomedical Image Analysis & Artificial Intelligence_"
      ]
    },
    {
      "cell_type": "markdown",
      "metadata": {
        "id": "8g_Y-BQS8vsu"
      },
      "source": [
        "# Notebook 1.3 - Advanced Programming in Python\n",
        "---\n",
        "##### The purpose of this notebook is to introduce some more advanced programming techniques, which are easily translatable to most other programming languages.\n",
        "##### This notebook will cover some nuances that are specific to python.\n",
        "##### Please keep in mind that this notebook is only for those interested in learning more about programming, but is **not** required to complete this module.\n",
        "##### Each section will include at least one code chunk example that can be run to see how that particular fundamental works."
      ]
    },
    {
      "cell_type": "markdown",
      "metadata": {
        "id": "AZ-iE0iI9Wg-"
      },
      "source": [
        "# Packages in Python\n",
        "---\n",
        "##### While python is a very versatile tool on its own, one major advantage to using python is that it is open-source, meaning that its functionality can be improved on by anyone. These improved functionalities are containined in \"packages\" for python, which can be eaily downloaded and integrated into python code.\n",
        "##### Most packages are very well documented, and provide example of how they work. If you are curious about a particular package, a quick Google search should result in the documentation for a package.\n",
        "##### Google Colab has a rather exhaustive list of readily availble packages, which can be displayed using the following code chunk. Please do not worry about understanding the specific line of code used in this code chunk at this time.\n"
      ]
    },
    {
      "cell_type": "code",
      "metadata": {
        "id": "Y3simVcjA5Ys"
      },
      "source": [
        "!pip list -v"
      ],
      "execution_count": null,
      "outputs": []
    },
    {
      "cell_type": "markdown",
      "metadata": {
        "id": "2UuVAymFBUuc"
      },
      "source": [
        "### Using packages in python\n",
        "---\n",
        "##### Packages are added to an entire notebook by using the keyword `import` followed by the name of the package.\n",
        "##### For example, to add functionality regarding dates, the package [`datetime`](https://docs.python.org/3/library/datetime.html) can be imported using the following line of code:\n",
        "> ##### `import datetime`\n",
        "##### If there is a particular class (these will be covered in a later section) within a package that you want to use, the keyword `from` can also be used. For example, the `date` class within the `datetime` package can be imported with this line of code:\n",
        "> ##### `from datetime import date`"
      ]
    },
    {
      "cell_type": "code",
      "metadata": {
        "id": "ApoKqK4DGLZ0"
      },
      "source": [
        "# Import the 'date' class from 'datetime'\n",
        "from datetime import date\n",
        "\n",
        "# Get the current date using the datetime package by using the 'today' method within the date class (these will be covered in a later section)\n",
        "current_date = date.today()\n",
        "\n",
        "print(\"The current date is: \" + str(current_date))"
      ],
      "execution_count": null,
      "outputs": []
    },
    {
      "cell_type": "markdown",
      "metadata": {
        "id": "_cjGT-MD9TG-"
      },
      "source": [
        "# Functions\n",
        "---\n",
        "##### If some lines of code are expected to be run many many times, they can be encased within a _function_, which can cut back on the number of lines that a code chunk takes up, as well as make the code more readable.\n",
        "##### Functions can be created by using the keyword `def` (short for define), along with the name of the function, which is up to you. \n",
        "##### Additionally, a function can be setup to have `inputs`, which are variables that can be accessed within a function that are from other code chunks. \n",
        "##### For example, the line of code that creates a basic function named `difference` that takes in two inputs (`value1` and `value2`) is:\n",
        "> ##### `def difference(value1,value2):`\n",
        "##### The code within a function is indented, similar to conditional statements, for loops, and while loops. In the given example, this would be:\n",
        "> ##### `difference_value = value1 - value2`\n",
        "##### The end of a function is denoted with the keyword `return`, along with all of the things that are wanted to outputted separated by commas. In the given example, a single variable will be outputted:\n",
        "> ##### `return difference_value`\n",
        "##### It should also be noted that the variables names that are used as the inputs outputs do not have to be the same as in the code chunks that call the function."
      ]
    },
    {
      "cell_type": "code",
      "metadata": {
        "id": "IoI63bSeCmoR"
      },
      "source": [
        "# Create a function named difference, that takes in two variables (value1 and value2).\n",
        "# The function takes the difference between value1 and value2, and returns the difference.\n",
        "def difference(value1,value2):\n",
        "  difference_value = value1 - value2\n",
        "  return difference_value"
      ],
      "execution_count": null,
      "outputs": []
    },
    {
      "cell_type": "markdown",
      "metadata": {
        "id": "F7VGxXyuGbkn"
      },
      "source": [
        "### Utilizing functions\n",
        "---\n",
        "##### Within notebooks, functions are defined within their own code chunk which **_must be run before running other code chunks that call the functions_**.\n",
        "##### Once the code chunk containing functions has been run, then other code chunks that contain the function can be run.\n",
        "##### In the next code chunk, if it does not correctly run and outputs some lines mentioning an error and the phrase\n",
        "> ##### `NameError: name 'difference' is not defined`,\n",
        "##### then that is an indication that the previous code chunk that contains the function `difference` has not been run."
      ]
    },
    {
      "cell_type": "code",
      "metadata": {
        "id": "Pke8E0LxHVLO"
      },
      "source": [
        "# Create the variables input1 and input2\n",
        "input1 = 10\n",
        "input2 = 7\n",
        "\n",
        "# Use the newly created function 'difference' to calculate the difference between input1 and input2\n",
        "output = difference(input1,input2)\n",
        "\n",
        "# Print the output\n",
        "print('The difference between the two values is: ' + str(output))"
      ],
      "execution_count": null,
      "outputs": []
    },
    {
      "cell_type": "markdown",
      "metadata": {
        "id": "QnDiXs8z9iW2"
      },
      "source": [
        "# Extra credit activity: Objects\n",
        "---\n",
        "##### An _object_, or sometimes called a _class_, is a bit of code that is only used in some programming languages (which are called [Object-Oriented Programming Languages](https://en.wikipedia.org/wiki/Object-oriented_programming)), which can be highly versatile.\n",
        "##### These classes can contain both:\n",
        "1. _Attributes_, which are variables within a class that can accessed either inside or outside of the class.\n",
        "2. _Methods_, which are just functions encased within a class that can also be accessed inside or outside of a class.\n",
        "\n",
        "##### Below is a code chunk that creates an empty class using the `class` keyword named `MyClass`. \n",
        "##### An `__init__()` (_short for initalization_) method within the class, which is first run when the class is called, is already made for you. This method takes in a single input `number`, and assigns the input value to the class attribute `number`.\n",
        "##### Can you create an additional method named `Countdown` that counts down to 0 starting at the input number, and prints all of the numbers while counting down?\n"
      ]
    },
    {
      "cell_type": "code",
      "metadata": {
        "id": "af79e6gAXeTs"
      },
      "source": [
        "# --- Start defining MyClass --- #\n",
        "class MyClass():\n",
        "  # This is the MyClass class\n",
        "\n",
        "  # Here is the initialization method\n",
        "  def __init__(self,number):\n",
        "    self.number = number\n",
        "    print('The input number is ' + str(number))\n",
        "\n",
        "  # Here is the Countdown method\n",
        "\n",
        "# --- Finish defining MyClass --- #\n",
        "\n",
        "# Define some input number variable named \"input_number\"\n",
        "input_number = 10\n",
        "\n",
        "# Create a MyClass variable\n",
        "test_class = MyClass(input_number)\n",
        "\n",
        "# Call the Countdown method \n"
      ],
      "execution_count": null,
      "outputs": []
    },
    {
      "cell_type": "markdown",
      "metadata": {
        "id": "08iydcfdhNMA"
      },
      "source": [
        "# Ready for the next notebook?\n",
        "---\n",
        "##### You can click [here](https://colab.research.google.com/github/aewoessn/biomedical-image-analysis-and-ai/blob/main/notebooks/2.1_Images.ipynb) to take you to the next notebook."
      ]
    }
  ]
}
