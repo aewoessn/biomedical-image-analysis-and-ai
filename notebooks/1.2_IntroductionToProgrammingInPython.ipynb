{
  "nbformat": 4,
  "nbformat_minor": 0,
  "metadata": {
    "colab": {
      "name": "1.2_IntroductionToProgrammingInPython.ipynb",
      "provenance": [],
      "collapsed_sections": []
    },
    "kernelspec": {
      "name": "python3",
      "display_name": "Python 3"
    },
    "language_info": {
      "name": "python"
    }
  },
  "cells": [
    {
      "cell_type": "markdown",
      "metadata": {
        "id": "gU9gOrjbGYOZ"
      },
      "source": [
        "<img src=https://brand.uark.edu/_resources/images/UA_Logo_Horizontal.jpg width=\"400\" height=\"96\">\n",
        "\n",
        "###_Biomedical Image Analysis & Artificial Intelligence_"
      ]
    },
    {
      "cell_type": "markdown",
      "metadata": {
        "id": "yygUmUsA0M_p"
      },
      "source": [
        "# Notebook 1.2 - Introduction to Programming in Python\n",
        "---\n",
        "##### The purpose of this notebook is to introduce you to all of the basic programming fundamentals that are the same or very similar in all programming languages.\n",
        "##### This notebook will cover some nuances that are specific to python too.\n",
        "##### Please keep in mind that this notebook is only for those interested in programming and want to enhance their experience in this camp module, but learning to program is **not** required to complete exercises.\n",
        "##### Each section will include at least one code chunk example that can be run to see how that particular fundamental works."
      ]
    },
    {
      "cell_type": "markdown",
      "metadata": {
        "id": "FuVyODxP00Z_"
      },
      "source": [
        "# Writing and executing code\n",
        "---\n",
        "##### Code chunks, and most code in general, runs in a linear line-by-line fashion, reading from left to right, top to bottom. \n",
        "##### An important rule of thumb for all programming is that **_there is no \"right\" way to do something with code, and there are many ways to acomplish the same thing._**"
      ]
    },
    {
      "cell_type": "code",
      "metadata": {
        "id": "PXbyUaSw3f1P"
      },
      "source": [
        "print(\"This line will be executed first!\")\n",
        "print(\"This line will be executed second!\")\n",
        "print(\"This line will be executed third!\")"
      ],
      "execution_count": null,
      "outputs": []
    },
    {
      "cell_type": "markdown",
      "metadata": {
        "id": "FguuqfT1IveQ"
      },
      "source": [
        "### Commenting\n",
        "---\n",
        "##### Personal comments can be added to code with `#`, which are just ignored by the computer when the code chunk is executed. Comments are typically used to convery what the author of the code wants the code to do in a particular location.  Comments also may include any notes to yourself that you do not want to forget as you write or edit the code.\n",
        "##### There is no limit to the amount of comments that one can make, and a general rule of thumb is the more comments you can add, the better off you (or anyone else reading the code) will be if you have to re-visit your code at a later date.\n",
        "##### Lines of code that you do not want to run but you also do not want to delete outright can be 'commented out' in a similar fashion."
      ]
    },
    {
      "cell_type": "code",
      "metadata": {
        "id": "c_2orfGbJZPv"
      },
      "source": [
        "# Print the phrase \"Hello world!\"\n",
        "print(\"Hello world!\")\n",
        "\n",
        "#print(\"This line will not be printed!\")"
      ],
      "execution_count": null,
      "outputs": []
    },
    {
      "cell_type": "markdown",
      "metadata": {
        "id": "ORdMXoAl7WS0"
      },
      "source": [
        "### Variables\n",
        "---\n",
        "##### Within code chunks, variables, which can store anything, including a single value or a list of values, can be assigned and named."
      ]
    },
    {
      "cell_type": "code",
      "metadata": {
        "id": "noxv5qhI7t_G"
      },
      "source": [
        "# Set a variable named \"fixed_number\" to be the value 10.\n",
        "fixed_number = 10;"
      ],
      "execution_count": null,
      "outputs": []
    },
    {
      "cell_type": "markdown",
      "metadata": {
        "id": "w2-dV51p19Bf"
      },
      "source": [
        "# Conditional (If/else/else if) statements\n",
        "---\n",
        "##### A conditional statement is simply just a statement that checks some condition. These statements are typically done with _conditional operators_ to check if something is...\n",
        "1. Equal to something else (`==`)\n",
        "2. Not equal to something else (`!=`)\n",
        "3. Greater than something else (`>`)\n",
        "4. Greater than or equal to something else (`>=`)\n",
        "5. Less than something else (`<`)\n",
        "6. Less than or equal to something else (`<=`)\n"
      ]
    },
    {
      "cell_type": "markdown",
      "metadata": {
        "id": "jYIzYmzmARgs"
      },
      "source": [
        "### If statement\n",
        "---\n",
        "##### To initiate a conditional statement, the keyword `if` is used, and is followed by the condition that you are wanting to check, which is encased in parentheses. The conditional statement line is then followed by what you want your code to do if the condition is true.\n",
        "##### For python, the conditional statement is ended with a `:` and the lines of code that you want to run if the condition is true are indented with a `Tab`."
      ]
    },
    {
      "cell_type": "code",
      "metadata": {
        "id": "r8ZTmmot5jYF"
      },
      "source": [
        "fixed_number = 4\n",
        "\n",
        "# Conditional statement to check if fixed_number is less than 5\n",
        "if (fixed_number < 5):\n",
        "  # Note that this and the next line are indented by a single tab\n",
        "  print(\"The number is less than 5.\")\n",
        "\n",
        "# Note that this line is not indented\n",
        "print(\"The conditional statement has ended.\")"
      ],
      "execution_count": null,
      "outputs": []
    },
    {
      "cell_type": "markdown",
      "metadata": {
        "id": "bXF3rqe5AaSC"
      },
      "source": [
        "### Multiple conditions\n",
        "---\n",
        "##### Multiple conditions can be checked using _logical operators_, which include:\n",
        "1. And (`&`)\n",
        "2. Or (`|`)\n",
        "3. Not (`not`)\n",
        "##### Conditional statements can be read just like a typical sentence. For example, the conditional statement:\n",
        "> ##### If fixed_number is **_greater than_** 4 **_and_** if fixed_number is **_less than_** 6.\n",
        "##### Can be translated to code as:\n",
        "> ##### `if (fixed_number > 4) & (fixed_number < 6)`"
      ]
    },
    {
      "cell_type": "code",
      "metadata": {
        "id": "6RsrLyI7DRlL"
      },
      "source": [
        "fixed_number = 3\n",
        "\n",
        "# Conditional statement to check if fixed_number is greater than 4 and less than 6\n",
        "if (fixed_number > 4) & (fixed_number < 6):\n",
        "  print(\"The number is equal to 5.\")\n",
        "\n",
        "# Conditional statement to check if fixed_number is equal to any odd number\n",
        "if (fixed_number == 1) | (fixed_number == 3) | (fixed_number == 5):\n",
        "  print(\"The number is odd.\")\n",
        "\n",
        "# Math can also be done within a conditional statement.\n",
        "# For example, we can more generally check to see if a number is odd by dividing the number by 2, and checking to see if the remainder is equal to 1 or 0.\n",
        "# Since this a very common practice, getting the remainder of a division can be done by replacing the division (/) operator with a modulus (%) operator.\n",
        "if (fixed_number % 2) == 1:\n",
        "  print(\"The number was determined to be odd by using the modulo operator.\")"
      ],
      "execution_count": null,
      "outputs": []
    },
    {
      "cell_type": "markdown",
      "metadata": {
        "id": "_omqCm3CEXrB"
      },
      "source": [
        "### Else and else if statements\n",
        "---\n",
        "##### Conditional statements can be chained together to have different outcomes. An _else if_, or `elif` is written the exact same as an `if` statement, and finally, an `else` statement can be used as a 'catch-all' for all other conditions."
      ]
    },
    {
      "cell_type": "code",
      "metadata": {
        "id": "Wfum1YOnGov6"
      },
      "source": [
        "fixed_number = 11\n",
        "\n",
        "# Conditional statement to check if fixed_number is odd or even\n",
        "if (fixed_number % 2) == 1:\n",
        "  print(\"The number is odd.\")\n",
        "elif (fixed_number % 2) == 0:\n",
        "  print(\"The number is even.\")\n",
        "\n",
        "# Check to see if fixed_number is less than or greater than 10. Otherwise, the number must equal to 10\n",
        "if (fixed_number < 10):\n",
        "  print(\"The number is less than 10.\")\n",
        "elif (fixed_number > 10):\n",
        "  print(\"The number is greater than 10.\")\n",
        "else:\n",
        "  print(\"The number must be 10.\")"
      ],
      "execution_count": null,
      "outputs": []
    },
    {
      "cell_type": "markdown",
      "metadata": {
        "id": "Zl3lIe8R2HyP"
      },
      "source": [
        "# For loops\n",
        "---\n",
        "##### Sometimes in code, you have to do some task multiple times. Instead of copying and pasting the same line or lines of code many times, we can use a `for` loop instead.\n",
        "##### An important detail to remember about a for loop is that they are restricted to execute, or iterate through some code a _fixed_ number of times, which is specified by the user.\n",
        "##### When creating a for loop, a variable is used to keep track of the number if iterations that should be done, as well as what iteration the code is currently on. In general, this variable can be thought of as a counter for the for loop. \n",
        "##### In code, the for loop consists of the keyword `for`, followed by the counter variable (typically `i` is used), then `in`, and then whatever you want to iterate through, which is typically some type of list of numbers that is generated using the `range()` function, and then is ended with `:`. Afterward, the lines of code that are wanted to execute are indented with a `Tab`."
      ]
    },
    {
      "cell_type": "code",
      "metadata": {
        "id": "GdD1DZqdyI8C"
      },
      "source": [
        "# Set up the number of times we want the for loop to run\n",
        "fixed_number_of_iterations = 5\n",
        "\n",
        "# Create a for loop that outputs the iteration that the for loop is on. \n",
        "# Something to note is that for loops start on the 0th iteration, rather than the 1st iteration.\n",
        "for i in range(fixed_number_of_iterations):\n",
        "  # To print the iteration number, the value must be converted to a character using the str() function\n",
        "  print('Iteration: ' + str(i))"
      ],
      "execution_count": null,
      "outputs": []
    },
    {
      "cell_type": "markdown",
      "metadata": {
        "id": "1U0JL2C02fNg"
      },
      "source": [
        "# While loops\n",
        "---\n",
        "##### In some cases, we want to execute some lines of code an _indefinite_ number of times, which is dictated by a conditional statement. For this type of indefinite loop, a `while` loop can be used. For these types of loops to work, some type of counter variable is typically used, and must be iterated within the loop by hand.\n",
        "##### In code, these types of loops are written similar to conditional statements and for loops."
      ]
    },
    {
      "cell_type": "code",
      "metadata": {
        "id": "o2u-p5uO4HjI"
      },
      "source": [
        "# Initialize a variable to some number, which will be used as the counter variable\n",
        "number = 0\n",
        "\n",
        "# Create a while loop that will iterate until the variable 'number' is no longer less than 10\n",
        "while number < 10:\n",
        "  # Print out the current iteration\n",
        "  print('Current iteration: ' + str(number))\n",
        "\n",
        "  # Manually increase the value of number by 1\n",
        "  number = number + 1\n",
        "\n",
        "# Print the value of number after finishing the while loop\n",
        "print('Finished while loop on value: ' + str(number))"
      ],
      "execution_count": null,
      "outputs": []
    },
    {
      "cell_type": "markdown",
      "metadata": {
        "id": "YEYiBTf2TD2v"
      },
      "source": [
        "# Extra credit activity: Counting down from a number\n",
        "---\n",
        "##### Some of the notebooks in thin module contain _Extra credit activities_ which are for you to try to progam yourself. \n",
        "##### **Pease keep in mind that these activities are _not_ required, and are only for you to try progamming yourself if you are interested.**\n",
        "##### Below is a code chunk containing only a Form and some comments.\n",
        "##### Can you develop code that takes the number from the Form, prints out the number, and counts down (while printing out the number) and starting at that number until it reaches zero?"
      ]
    },
    {
      "cell_type": "code",
      "metadata": {
        "id": "Spui7tFuU2Pd"
      },
      "source": [
        "# --- Form starts here --- #\n",
        "#@title Starting number: {run: \"auto\"}\n",
        "starting_number = 10 #@param {type:\"integer\"}\n",
        "# --- Form ends here --- #\n",
        "\n",
        "# Print the starting number\n",
        "\n",
        "# Use some type of loop\n",
        "\n",
        "  # Print out the current number\n",
        "\n",
        "  # Subtract 1 from the number in the loop"
      ],
      "execution_count": null,
      "outputs": []
    },
    {
      "cell_type": "markdown",
      "metadata": {
        "id": "08iydcfdhNMA"
      },
      "source": [
        "# Ready for the next notebook?\n",
        "---\n",
        "##### You can click [here](https://colab.research.google.com/github/aewoessn/biomedical-image-analysis-and-ai/blob/main/notebooks/1.3_AdvancedProgrammingInPython.ipynb) to take you to the next notebook."
      ]
    }
  ]
}
