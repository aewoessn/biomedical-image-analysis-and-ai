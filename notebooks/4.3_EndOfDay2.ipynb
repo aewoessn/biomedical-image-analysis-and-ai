{
  "nbformat": 4,
  "nbformat_minor": 0,
  "metadata": {
    "colab": {
      "name": "4.3_EndOfDay2.ipynb",
      "provenance": [],
      "collapsed_sections": [],
      "authorship_tag": "ABX9TyPTLs8uby9bbosRz6awVi49"
    },
    "kernelspec": {
      "name": "python3",
      "display_name": "Python 3"
    },
    "language_info": {
      "name": "python"
    }
  },
  "cells": [
    {
      "cell_type": "markdown",
      "metadata": {
        "id": "mFQ2JNZn8oIm"
      },
      "source": [
        "<img src=https://brand.uark.edu/_resources/images/UA_Logo_Horizontal.jpg width=\"400\" height=\"96\">\n",
        "\n",
        "###_Biomedical Image Analysis & Artificial Intelligence_"
      ]
    },
    {
      "cell_type": "markdown",
      "metadata": {
        "id": "8g_Y-BQS8vsu"
      },
      "source": [
        "# Notebook 4.3 End of Day 2\n",
        "---\n",
        "### Congratulations on completing day 2 of this module!! \n",
        "#### **We will announce the winner of the CNN competition during the beginning of the office hours. If you would like to hear the results of the competition, get assistance with Notebooks 3.1-4.3, or talk to Dr. Quinn or Mr. Woessner about your experiences, please join us at: [insert zoom link]**\n",
        "##### Over the span of this day, we saw that:\n",
        "1. Neural networks area way to mathematically model the connections of neurons in the brain.\n",
        "2. Deep learning is a process used to train a neural network that involves a few steps.\n",
        "3. Multi-layer perceptrons (MLPs) are useful in some tasks, but lack in spatial feature recognition that is important for images.\n",
        "4. Convolutional neural networks (CNNs) convolve images with many filters, and when combined with an MLP, can be used to both classify images or output some meaningful number.\n",
        "\n",
        "##### We hope that you had fun with this module, and thank you for signing up for this summer camp!\n",
        "\n"
      ]
    },
    {
      "cell_type": "markdown",
      "metadata": {
        "id": "2Ennz8xGlMBE"
      },
      "source": [
        "# Other AI applications\n",
        "---\n",
        "##### Although you may not realize it, many of today's technology relies on some type of neural network. Here are a few interesting examples:\n",
        "1. [Natural language processing](https://en.wikipedia.org/wiki/Natural_language_processing)\n",
        "2. [Semantic segmentation](https://towardsdatascience.com/semantic-segmentation-with-deep-learning-a-guide-and-code-e52fc8958823)\n",
        "3. [Face generation](https://en.wikipedia.org/wiki/Deepfake)\n",
        "4. [AR Filtering](https://towardsdatascience.com/implementing-snapchat-like-filters-using-deep-learning-13551940b174)\n",
        "5. [Music generation](https://en.wikipedia.org/wiki/Music_and_artificial_intelligence)\n",
        "6. [Video games](https://en.wikipedia.org/wiki/Deep_learning_super_sampling)\n",
        "\n",
        "##### The list of applications for AI is never-ending, and there are still new applications being realized every day!"
      ]
    }
  ]
}