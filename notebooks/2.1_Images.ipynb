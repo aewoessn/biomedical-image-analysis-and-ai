{
  "nbformat": 4,
  "nbformat_minor": 0,
  "metadata": {
    "colab": {
      "name": "2.1_Images.ipynb",
      "provenance": [],
      "collapsed_sections": []
    },
    "kernelspec": {
      "name": "python3",
      "display_name": "Python 3"
    },
    "language_info": {
      "name": "python"
    }
  },
  "cells": [
    {
      "cell_type": "markdown",
      "metadata": {
        "id": "mFQ2JNZn8oIm"
      },
      "source": [
        "<img src=https://brand.uark.edu/_resources/images/UA_Logo_Horizontal.jpg width=\"400\" height=\"96\">\n",
        "\n",
        "###_Biomedical Image Analysis & Artificial Intelligence_"
      ]
    },
    {
      "cell_type": "markdown",
      "metadata": {
        "id": "8g_Y-BQS8vsu"
      },
      "source": [
        "# Notebook 2.1 Introduction to images and python usage\n",
        "---\n",
        "##### The purpose of this notebook is to introduce what digital images are and how to work with them in python.\n",
        "\n"
      ]
    },
    {
      "cell_type": "markdown",
      "metadata": {
        "id": "fkFgiH4QBugr"
      },
      "source": [
        "# Introduction to images\n",
        "---\n"
      ]
    },
    {
      "cell_type": "code",
      "metadata": {
        "colab": {
          "base_uri": "https://localhost:8080/",
          "height": 335
        },
        "id": "PfRuIQ5KxL72",
        "cellView": "form",
        "outputId": "e3b9f8bd-91b4-4999-b861-35c1529a927b"
      },
      "source": [
        "#@title \n",
        "%%html\n",
        "<iframe width=\"560\"\n",
        "height=\"315\" \n",
        "src=\"https://www.youtube.com/embed/uQPrasDyOqY\" \n",
        "title=\"YouTube video player\" \n",
        "frameborder=\"0\" \n",
        "allow=\"accelerometer; autoplay; clipboard-write; encrypted-media; gyroscope; picture-in-picture\" \n",
        "allowfullscreen>\n",
        "</iframe>"
      ],
      "execution_count": 1,
      "outputs": [
        {
          "output_type": "display_data",
          "data": {
            "text/html": [
              "<iframe width=\"560\"\n",
              "height=\"315\" \n",
              "src=\"https://www.youtube.com/embed/uQPrasDyOqY\" \n",
              "title=\"YouTube video player\" \n",
              "frameborder=\"0\" \n",
              "allow=\"accelerometer; autoplay; clipboard-write; encrypted-media; gyroscope; picture-in-picture\" \n",
              "allowfullscreen>\n",
              "</iframe>"
            ],
            "text/plain": [
              "<IPython.core.display.HTML object>"
            ]
          },
          "metadata": {
            "tags": []
          }
        }
      ]
    },
    {
      "cell_type": "markdown",
      "metadata": {
        "id": "CrIY31bjGLtp"
      },
      "source": [
        "### What is an image?\n",
        "---\n",
        "##### In the world of digital imagery, a digital image is just a two-dimensional collection of the smallest unit of an image, the _pixel_. A pixel gets its name because it is a _picture element_.  When we talk about an image, the size of the image in width and height _in pixels_ is usually specified. There is no lower limit or upper limit to the size of an image, however typical scientific images are often either 512 by 512 pixels (0.26 Megapixels), or 1024 by 1024 pixels (1.05 Megapixels). To give context to these image sizes, a 4K image is 3840 by 2160 pixels (8.3 Megapixels), and an iPhone 12 Pro takes an image containing 12 Megapixels.\n",
        "##### Finally, at every pixel within an image, an _intensity_ value associated with that pixel is used to describe how bright that pixel should be. When an image is taken, the number of possible intensity values is dictated by the _bit depth_. Many scientific images are often 8-bit, meaning that there are 2^8 (or 256 possible intensity values, ranging from 0 to 255). "
      ]
    },
    {
      "cell_type": "markdown",
      "metadata": {
        "id": "rj5fUNLfGSR5"
      },
      "source": [
        "### Representing images in python\n",
        "---\n",
        "##### In progamming, an image, which is just a two-dimensional collection of pixels, is represented as a two-dimensional [_matrix_](https://en.wikipedia.org/wiki/Matrix_(mathematics)), where each pixel is equivalent to a single entry within the matrix, and each entry has a value associated with it that corresponds to the pixel _intensity_.\n",
        "##### In python, matricies are typically handled using the package `numpy`. Additionally, when refering to the dimensions of an image, the first dimension corresponds to the number of rows of pixels in an image, and the second dimension corresponds to the number of columns of pixels in an image."
      ]
    },
    {
      "cell_type": "code",
      "metadata": {
        "id": "jvyIfpyLAgQo"
      },
      "source": [
        "# Import the numpy python package. The 'as np' at the end just means that instead of calling numpy everytime we want to use it, we can just use np.\n",
        "import numpy as np\n",
        "\n",
        "# Create an 8-bit image with a size of 10 by 10 pixels filled with random values.\n",
        "image = np.random.randint(256, size=(10,10))\n",
        "image"
      ],
      "execution_count": null,
      "outputs": []
    },
    {
      "cell_type": "code",
      "metadata": {
        "id": "BPqbLOdiOJg6",
        "cellView": "form"
      },
      "source": [
        "# Include forms that allow for a custom amount of rows and columns in an image\n",
        "# --- Forms start here --- #\n",
        "#@title Change these to customize the dimensions of an image { run: \"auto\" }\n",
        "n_rows = 32 #@param {type:\"slider\", min:1, max:100, step:1} \n",
        "n_cols = 10 #@param {type:\"slider\", min:1, max:100, step:1}\n",
        "# --- Forms end here --- #\n",
        "\n",
        "# Create an 8-bit image with a custom size filled with random values.\n",
        "image = np.random.randint(256, size=(n_rows,n_cols))\n",
        "image"
      ],
      "execution_count": null,
      "outputs": []
    },
    {
      "cell_type": "markdown",
      "metadata": {
        "id": "e0Wj0b2tSFuW"
      },
      "source": [
        "### Displaying grayscale images in python\n",
        "---\n",
        "##### When a single intensity value is assigned to every pixel, pixels can be visually shown as a shade of gray where the lowest value correponds to black and the highest value corresponds to white.  For an 8-bit image that has 256 shades of gray, 0 and 255 correspond to completely black and white, respectively. This type of image can be called a _grayscale_ image, and can be shown as such.\n",
        "##### While using images in python, it is very helpful to display images to get a visual representation of what is going on. Within just python, however, images are unable to be displayed. By using the `pyplot` class within the `matplotlib` package, images can be shown.  Run the code chuck below to see the image of random numbers that you generated above.\n"
      ]
    },
    {
      "cell_type": "code",
      "metadata": {
        "id": "NTzEI8h2T73S"
      },
      "source": [
        "# Import the pyplot class within matplotlib as 'plt'\n",
        "import matplotlib.pyplot as plt\n",
        "\n",
        "# Display the random image generated in the last code chunk as a grayscale image by using the 'imshow' method\n",
        "# The 'cmap' is used to display the image as grayscale\n",
        "implot = plt.imshow(image, cmap='gray')"
      ],
      "execution_count": null,
      "outputs": []
    },
    {
      "cell_type": "markdown",
      "metadata": {
        "id": "Ojro0DF_Xu3y"
      },
      "source": [
        "### Generating and displaying color images\n",
        "---\n",
        "##### To achieve color images, three grayscale images can be overlapped which represents different color _channels_ of an image. These three channels correspond to the _red (R), green (G), and blue (B)_ channels, respectively, which results in a color image when combined.\n",
        "##### In python, RGB images can be represented as a three-dimensional image where the first and second dimensions of the image represent the rows and columns of an image, and the third dimesion represents the channels. \n",
        "##### For example, an image with the dimensions 512 by 512 by 3 pixels corresponds to a 512 by 512 pixel RGB image."
      ]
    },
    {
      "cell_type": "code",
      "metadata": {
        "id": "mIoGf7MEQpBB"
      },
      "source": [
        "# Create a random 8-bit 10 by 10 pixel RGB image\n",
        "rgb_image = np.random.randint(256, size=(10,10,3))\n",
        "\n",
        "# Display the...\n",
        "fig = plt.figure(figsize=(30,30))\n",
        "\n",
        "# Red channel\n",
        "ax = fig.add_subplot(1, 4, 1)\n",
        "ax.set_title('Red Channel')\n",
        "rplot = plt.imshow(rgb_image[:,:,0], cmap='gray')\n",
        "\n",
        "# Green channel\n",
        "ax = fig.add_subplot(1, 4, 2)\n",
        "ax.set_title('Green Channel')\n",
        "gplot = plt.imshow(rgb_image[:,:,1], cmap='gray')\n",
        "\n",
        "# Blue channel\n",
        "ax = fig.add_subplot(1, 4, 3)\n",
        "ax.set_title('Blue Channel')\n",
        "bplot = plt.imshow(rgb_image[:,:,2], cmap='gray')\n",
        "\n",
        "# RGB Image\n",
        "ax = fig.add_subplot(1, 4, 4)\n",
        "ax.set_title('R/G/B Image')\n",
        "rgbplot = plt.imshow(rgb_image)"
      ],
      "execution_count": null,
      "outputs": []
    },
    {
      "cell_type": "markdown",
      "metadata": {
        "id": "b3ZC0DaUXCaM"
      },
      "source": [
        "# Loading images\n",
        "---\n",
        "##### Instead of only creating images in python, images can be loaded as well. There are many packages that can be used to load images, such as `imageio`.\n",
        "##### In this module, the package `imageio` will be used to load sample images. A list of all availble sample images can be found [here](https://imageio.readthedocs.io/en/stable/standardimages.html)."
      ]
    },
    {
      "cell_type": "code",
      "metadata": {
        "id": "7ZmCsLr4T9_w",
        "cellView": "form"
      },
      "source": [
        "# Import the imageio package\n",
        "import imageio as io\n",
        "\n",
        "# Include form to picking an image to load\n",
        "# --- Form starts here --- #\n",
        "#@title Choose an image to load. { run: \"auto\" }\n",
        "image_name = \"astronaut.png\" #@param [\"astronaut.png\",\"chelsea.png\",\"wikkie.png\"]\n",
        "\n",
        "# Load the sample image within imageio\n",
        "sample_image = io.imread(\"imageio:\" + image_name)\n",
        "\n",
        "# Display the...\n",
        "fig = plt.figure(figsize=(30,30))\n",
        "\n",
        "# Red channel\n",
        "ax = fig.add_subplot(1, 4, 1)\n",
        "ax.set_title('Red Channel')\n",
        "rplot = plt.imshow(sample_image[:,:,0], cmap='gray')\n",
        "\n",
        "# Green channel\n",
        "ax = fig.add_subplot(1, 4, 2)\n",
        "ax.set_title('Green Channel')\n",
        "gplot = plt.imshow(sample_image[:,:,1], cmap='gray')\n",
        "\n",
        "# Blue channel\n",
        "ax = fig.add_subplot(1, 4, 3)\n",
        "ax.set_title('Blue Channel')\n",
        "bplot = plt.imshow(sample_image[:,:,2], cmap='gray')\n",
        "\n",
        "# RGB Image\n",
        "ax = fig.add_subplot(1, 4, 4)\n",
        "ax.set_title('R/G/B Image')\n",
        "rgbplot = plt.imshow(sample_image)"
      ],
      "execution_count": null,
      "outputs": []
    },
    {
      "cell_type": "markdown",
      "metadata": {
        "id": "08iydcfdhNMA"
      },
      "source": [
        "# Ready for the next notebook?\n",
        "---\n",
        "##### You can click [here](https://colab.research.google.com/github/aewoessn/biomedical-image-analysis-and-ai/blob/main/notebooks/2.2_ConvolutionAndImageFiltering.ipynb) to take you to the next notebook."
      ]
    }
  ]
}
