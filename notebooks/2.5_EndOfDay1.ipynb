{
  "nbformat": 4,
  "nbformat_minor": 0,
  "metadata": {
    "colab": {
      "name": "2.5_EndOfDay1.ipynb",
      "provenance": [],
      "collapsed_sections": [],
      "authorship_tag": "ABX9TyP6bjahxA2leGjnjOSXVtve"
    },
    "kernelspec": {
      "name": "python3",
      "display_name": "Python 3"
    },
    "language_info": {
      "name": "python"
    }
  },
  "cells": [
    {
      "cell_type": "markdown",
      "metadata": {
        "id": "mFQ2JNZn8oIm"
      },
      "source": [
        "<img src=https://brand.uark.edu/_resources/images/UA_Logo_Horizontal.jpg width=\"400\" height=\"96\">\n",
        "\n",
        "###_Biomedical Image Analysis & Artificial Intelligence_"
      ]
    },
    {
      "cell_type": "markdown",
      "metadata": {
        "id": "8g_Y-BQS8vsu"
      },
      "source": [
        "# Notebook 2.5 End of Day 1\n",
        "---\n",
        "### Congratulations on completing day 1 of this module!! \n",
        "### **If you would like assistance with Notebooks 1.1-2.5 or would like to talk to Dr. Quinn or Mr. Woessner about this camp module, please join us at for office hours [here](https://teams.microsoft.com/l/meetup-join/19%3ameeting_ZDc0M2QwOGQtYTIxMy00ODc3LWEwMWQtOTYxYzI5MWIwZWYy%40thread.v2/0?context=%7b%22Tid%22%3a%2279c742c4-e61c-4fa5-be89-a3cb566a80d1%22%2c%22Oid%22%3a%229469c500-7bbb-4d9d-ad9d-da9402844269%22%7d).\n",
        "##### To recap all of the material that we covered:\n",
        "1. Python is a versatile programming language that is used in Google Colab notebooks.\n",
        "2. Images are just a large array of pixels that contain intensity values at each pixel.\n",
        "3. Images can be loaded into python and modified using various packages (i.e. imageio and numpy).\n",
        "4. By convolving an image with various kernels, we can achieve different image effects like blurring, sharpening or highlighting edges.\n",
        "5. Whole images can also be convolved with small features to highlight that particular feature in an image.\n",
        "6. Convolution operations can be done way more efficiently on a GPU.\n",
        "\n",
        "##### In day 2, we will be covering what neural networks are and how to train them. We will also train two different types of neural networks to predict what digit is in an image and develop a neural network predict the age of people only by using pictures of their faces.\n",
        "\n"
      ]
    },
    {
      "cell_type": "markdown",
      "metadata": {
        "id": "ecK93yhLKWtL"
      },
      "source": [
        "# Interested in practicing programming further?\n",
        "---\n",
        "##### Since all of the notebooks in this module are not saved locally on your computer, a simple refresh of the page should return the notebook to its original state. \n",
        "##### Feel free to play around with the code in these notebooks. You can do anything to the existing notebooks, and even add new code chunks if you want to do something completely different. \n",
        "##### If you get stuck on something, a Google search should provide you with the answer to your problem."
      ]
    },
    {
      "cell_type": "markdown",
      "metadata": {
        "id": "D7TTqBUGbkZC"
      },
      "source": [
        "# Extra credit activity: Components of a cell\n",
        "---\n",
        "##### We know that a cell is made up of many components including the nucleus, mitochondria, etc.\n",
        "##### For biological applications, it is useful to highlight certain parts of the cell. We can do this by tagging cellular structures with _fluorescent labels_. \n",
        "##### Here is an example of a _fluorescently labeled_ group of cells where the nucleus is _blue_, the mitochondria are _green_, and the actin cytoskeleton is _red_.\n",
        "<img src=\"https://github.com/aewoessn/biomedical-image-analysis-and-ai/blob/main/images/fluorescent_cells_rgb.jpg?raw=true\" alt=\"fluorescent_cells_rgb.jpg\" width=\"388\" height=\"340\">\n",
        "\n",
        "##### Your goal is to complete three tasks with this image:\n",
        "1. Find the number of red pixels that contain actin fibers that line up well with having an edge in the x- and y-direction (count the number of pixels with a value of >0.99 in the convolved image).\n",
        "2. Find the mean intensity of all of the blue pixels in the image.\n",
        "3. Find the total number of green pixels that have an intensity >0.3.\n",
        "\n",
        "##### Here are the answers to check your results:\n",
        "1. Sum of pixels with y edges: 426 | Sum of pixels with x edges: 4977\n",
        "2. Mean blue intensity: 0.055098730365402686\n",
        "3. Number of green pixels with an intensity >0.3: 28145\n",
        "\n"
      ]
    },
    {
      "cell_type": "code",
      "metadata": {
        "id": "USf7ENAJ0RUs"
      },
      "source": [
        "# Import required packages\n",
        "import numpy as np\n",
        "import imageio\n",
        "import torch\n",
        "import matplotlib.pyplot as plt\n",
        "\n",
        "# Load the image\n",
        "url = \"https://github.com/aewoessn/biomedical-image-analysis-and-ai/blob/main/images/fluorescent_cells_rgb.jpg?raw=true\"\n",
        "cell_image = imageio.imread(url)\n",
        "\n",
        "# Set values to be between 0 and 1\n",
        "cell_image = cell_image / 255.\n",
        "\n",
        "# Task 1: Actin fiber orientation in red channel\n",
        "\n",
        "# Task 2: Average blue intensity\n",
        "\n",
        "# Task 3: Total number of green pixels\n"
      ],
      "execution_count": null,
      "outputs": []
    }
  ]
}
